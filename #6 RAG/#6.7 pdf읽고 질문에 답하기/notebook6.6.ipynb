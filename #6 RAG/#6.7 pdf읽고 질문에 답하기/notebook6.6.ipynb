{
 "cells": [
  {
   "cell_type": "code",
   "execution_count": 1,
   "metadata": {},
   "outputs": [],
   "source": [
    "from langchain.chat_models import ChatOpenAI\n",
    "from langchain.document_loaders import UnstructuredFileLoader\n",
    "from langchain.text_splitter import CharacterTextSplitter\n",
    "from langchain.embeddings import OpenAIEmbeddings, CacheBackedEmbeddings\n",
    "from langchain.vectorstores import FAISS\n",
    "from langchain.storage import LocalFileStore\n",
    "from langchain.chains import RetrievalQA"
   ]
  },
  {
   "cell_type": "code",
   "execution_count": 6,
   "metadata": {},
   "outputs": [
    {
     "name": "stderr",
     "output_type": "stream",
     "text": [
      "[nltk_data] Downloading package punkt to\n",
      "[nltk_data]     C:\\Users\\dahun\\AppData\\Roaming\\nltk_data...\n",
      "[nltk_data]   Unzipping tokenizers\\punkt.zip.\n",
      "[nltk_data] Downloading package averaged_perceptron_tagger to\n",
      "[nltk_data]     C:\\Users\\dahun\\AppData\\Roaming\\nltk_data...\n",
      "[nltk_data]   Unzipping taggers\\averaged_perceptron_tagger.zip.\n",
      "Created a chunk of size 1029, which is longer than the specified 600\n",
      "Created a chunk of size 864, which is longer than the specified 600\n",
      "Created a chunk of size 643, which is longer than the specified 600\n",
      "Created a chunk of size 636, which is longer than the specified 600\n",
      "Created a chunk of size 726, which is longer than the specified 600\n",
      "Created a chunk of size 918, which is longer than the specified 600\n",
      "Created a chunk of size 692, which is longer than the specified 600\n",
      "Created a chunk of size 1431, which is longer than the specified 600\n"
     ]
    }
   ],
   "source": [
    "llm = ChatOpenAI()\n",
    "\n",
    "\n",
    "splitter = CharacterTextSplitter.from_tiktoken_encoder(\n",
    "    separator=\"\\n\",\n",
    "    chunk_size=600,\n",
    "    chunk_overlap=100,\n",
    ")\n",
    "\n",
    "\n",
    "# txt,doc,pdf.html,excel 등등 다양한 file들을 load 할 수 있다.\n",
    "loader = UnstructuredFileLoader(\"../KAIA-JKIICE.pdf\")\n",
    "\n",
    "docs = loader.load_and_split(text_splitter=splitter)"
   ]
  },
  {
   "cell_type": "code",
   "execution_count": 7,
   "metadata": {},
   "outputs": [
    {
     "data": {
      "text/plain": [
       "[Document(page_content='JKIICE Journal of the Korea Institute of Information and\\nCommunication Engineering\\n한국정보통신학회논문지 Vol. 23, No. 1: 399~406, Mar. 2019\\nYOLO 기반 딥러닝 알고리즘을 이용한 도로 장애물 탐지 및 내비게이션 연동 시스템\\nRoad Obstacle Detection and Navigation YOLO-based Deep Learning Algorithm\\nInterworking System Using\\n요 약', metadata={'source': '../KAIA-JKIICE.pdf'}),\n",
       " Document(page_content='기존의 도로 안전 시스템들은 다양한 도로 상황과 환경적 변화에 능동적으로 대응하는 데 한계를 가지고 있으며, 대규모 인프라 투자의 필요성과 상당한 시간과 노력이 소요되는 문제점을 가지고 있다. 본 논문은 이러한 기존 기술 들의 한계를 극복하기 위하여, YOLO (You Only Look Once) 기반의 딥러닝 알고리즘과 첨단 센서 기술을 결합함으 로써, 교통 장애 요인을 실시간으로 정확하게 탐지하고 이에 빠르게 대응할 수 있는 시스템을 제안하였다. 열화상 카 메라와 고해상도 광각 카메라를 이용하여 도로상의 장애물을 탐지하고, 공개 데이터 소스로부터 추가 데이터를 확보 하여 데이터 셋의 다양성과 품질을 보장하였으며, 네비게이션 시스템과의 연동을 통해 도로상의 장애물 위치 등을 지도상 해당 좌표에 도로 상태를 나타내도록 하였다. 실험을 통하여 개발된 YOLO 기반 모델은 다양한 조명과 환경 조건에서도 블랙아이스, 포트홀 및 장애물을 실시간으로 분석하고 높은 정확도로 식별할 수 있음을 보였다.', metadata={'source': '../KAIA-JKIICE.pdf'}),\n",
       " Document(page_content='ABSTRACT\\nExisting road safety systems have limitations in actively responding to various road conditions and environmental changes, and have problems that require large-scale infrastructure investment and require considerable time and effort. To overcome the limitations of these existing technologies, this paper proposes a system that can accurately detect and respond to traffic obstacles in real time by combining YOLO (You Only Look Once) based deep learning algorithms with advanced sensor technology. Obstacles on the road were detected using thermal imaging cameras and high-resolution wide-angle cameras, additional data was obtained from public data sources to ensure the diversity and quality of the dataset, and the location of obstacles on the road was displayed on the corresponding coordinates on the map through linkage with the navigation system. Experiments show that the developed YOLO-based model can analyze black ice, potholes and obstacles in real time and identify them with high accuracy even under various lighting and environmental conditions.\\n키워드 : 도로 안전 시스템, 블랙아이스 탐지, YOLO 기반 딥러닝 알그리즘, 내비게이션 시스템 통합, 자율 주행 기술\\nKeywords : Road Safety System, Black Ice Detection, YOLO-based Deep Learning Algorithm, Navigation System\\nIntegration, Autonomous Driving Technology\\nReceived 29 January 2019, Revised 29 March 2019, Accepted 21 April 2019 (출판사에서작성)\\nCorresponding Author Min Seok Jang(E-mail:msjang@kunsan.ac.kr, Tel:+82-63-469-4557) Professor, School of Computer & Inf. & Comm. Eng, Kunsan National University, Gunsan, 54150 Korea\\nOpen Access http://doi.org/10.6109/jkiice.2019.23.1.399 This is an Open Access article distributed under the terms of the Creative Commons Attribution Non-Commercial License(http://creativecommons.org/li-censes/\\npISSN:2234-4772\\nby-nc/3.0/) which permits unrestricted non-commercial use, distribution, and reproduction in any medium, provided the original work is properly cited. Copyright Ⓒ The Korea Institute of Information and Communication Engineering.', metadata={'source': '../KAIA-JKIICE.pdf'}),\n",
       " Document(page_content='pISSN:2234-4772\\nby-nc/3.0/) which permits unrestricted non-commercial use, distribution, and reproduction in any medium, provided the original work is properly cited. Copyright Ⓒ The Korea Institute of Information and Communication Engineering.\\n한국정보통신학회논문지 Vol. 23, No. 1: 399~406, Mar. 2019\\nI. 서 론\\n실시간적 대응이 미흡한 실정이다[7]. 따라서 이를 해결 하기 위한 새로운 접근 방법이 필요한 상황이다.', metadata={'source': '../KAIA-JKIICE.pdf'}),\n",
       " Document(page_content='현대 사회에서 교통 시스템의 효율성과 안전성은 중 요한 경제적, 사회적 요소이다. 겨울철 블랙아이스, 포 트홀 및 각종 도로 장애물은 운전자와 보행자에게 심각 한 위험을 초래하며 교통사고의 주요 원인이 된다. 이 러한 위험 요소들은 장기적으로 도시의 교통 인프라 유 지 관리에 큰 부담을 준다[1,2,5]. 기존의 도로 안전 시 스템들은 도로상의 다양한 장애물을 효과적으로 탐지 하고 대응하기에 충분하지 않으며, 대부분 시스템은 고 비용으로 설치 및 유지 관리가 어려우며, 특히 기후조 건의 변화에 대한 적응성이 미흡한 실정이다[3,4]. 본 논문은 이러한 문제점을 해결하기 위하여, 도로상의 다 양한 장애물을 실시간으로 탐지 및 적절한 대응방법을 제안함으로써, 도로 안전 향상 및 교통사고 감소 등을 통한 사회 경제적 손실을 감소시키고자 한다.', metadata={'source': '../KAIA-JKIICE.pdf'}),\n",
       " Document(page_content='대부분 고정된 센서 시스템이나 제한된 범위에 적용 이 집중된 기존 연구들은 다양한 도로 상황과 환경적 변화에 능동적으로 대응하는 데 한계를 가지고 있으며, 대규모 인프라 투자의 필요성과 상당한 시간과 노력이 소요되는 문제점을 가지고 있다[4,5,6].', metadata={'source': '../KAIA-JKIICE.pdf'}),\n",
       " Document(page_content='본 논문은 열화상 카메라와 광각 카메라를 동시에 적 용하여 YOLO 기반의 딥러닝 알고리즘을 이용한 데이 터 분석을 기반으로 도로의 블랙아이스, 포트홀 및 장 애물을 실시간으로 탐지하며, 도로 사용자에게 실시간 으로 중요한 안전 정보를 제공하는 실용적이고 효율적 인 도로 안전 시스템을 개발하는 것이다.\\nII. 관련 연구', metadata={'source': '../KAIA-JKIICE.pdf'}),\n",
       " Document(page_content='주로 고정된 카메라, 센서, 및 수동적 감시 기법에 의 존하는 기존 교통 관리 시스템은 특정 지역의 교통 상 황 모니터링 및 대응에 유용하지만, 교통 및 도로 상황 에 실시간적 능동적 대응에는 한계가 있다. 내비게이션 시스템의 경우, 현재 클라우드 컴퓨팅과 머신러닝 알고 리즘을 통하여 효율적인 경로를 제공하지만, 도로의 다 양한 장애물 등과 같은 긴급한 정보를 반영하는 데에는 한계가 있다. 현재 도로상의 다양한 장애물 탐지를 위 하여 첨단 센서 기술, 인공지능, 머신러닝 등을 이용한 기술적 접근들이 연구되고 있지만, 정확성, 효율성 및', metadata={'source': '../KAIA-JKIICE.pdf'}),\n",
       " Document(page_content='YOLO는 컴퓨터 비전 분야에서 널리 사용되는 강력 한 실시간 객체 탐지 알고리즘이다. YOLO는 이미지를 단일 신경망에 통과시켜 객체의 종류와 위치를 한 번의 처리 과정으로 탐지함으로서, 실시간 처리에 매우 효율 적으로 동작한다. YOLO는 복잡한 배경이나 겹쳐진 객 체 탐지에는 아직 한계를 가지고 있지만, 배경 오류를 최소화하고 작거나 애매하게 표현된 객체들까지도 효 과적으로 탐지가 가능한 장점을 가진다[8].', metadata={'source': '../KAIA-JKIICE.pdf'}),\n",
       " Document(page_content='도로 안전과 관련하여 블랙아이스, 포트홀 및 장애물 탐지는 교통 관리의 핵심적인 과제이지만 각각 특유의 한계를 가지고 있다. 블랙아이스 탐지는 초기에 기상위 성을 통한 광범위한 지역의 기후 패턴 파악으로 상세한 도로별 탐지는 불가능한 한계가 있었으며, 이를 보완하 기 위하여 현재는 도로 표면 온도 센서를 장착하여 특 정 지역의 블랙아이스 발생 가능성을 예측하는 수준에 머물러있다. 온도 센서를 사용하는 방법은 많은 설치 비용과 노동력을 요구할 뿐 아니라 광범위한 지역의 실 시간 정보를 제공하지 못하는 문제점을 가진다[9].', metadata={'source': '../KAIA-JKIICE.pdf'}),\n",
       " Document(page_content='적외선 광원을 이용하는 비접촉식 탑지 방법은 FTIR 분석법을 통해 블랙아이스 유무를 확인할 수 있 지만, 고도의 기술적 전문성이 요구되며, 환경적 조건 에 따른 데이터의 변동성이 커지는 문제가 있다[10].\\n포트홀 탐지는 컴퓨터 비전과 이미지 처리를 위한 도 구가 요구되나 영상의 품질이 환경 조건에 크게 의존하 며, 특히 낮은 조명이나 기상 조건이 나쁜 경우에는 식 별 능력이 저하된다. 라이다 기술은 이를 어느 정도 보 완할 수 있지만, 비싼 구축 및 유지 비용이 요구되며 데 이터 처리 요구사항이 매우 복잡하다[11].', metadata={'source': '../KAIA-JKIICE.pdf'}),\n",
       " Document(page_content='장애물 탐지는 현재 초음파 센서와 레이더를 이용한 연구가 활발하게 진행되고 있지만, 도시 주변 환경의 다양한 간섭 요소로 인해 정확성을 확보하기가 어려운 실정이다. 이를 해결하기 위하여 인공지능 및 머신러닝 기반의 연구가 지속되고 있으나, 이들은 대량의 정확한 학습 데이터 확보 및 지속적인 모델 최적화를 위한 상 당한 시간과 노력이 필요하다[12].', metadata={'source': '../KAIA-JKIICE.pdf'}),\n",
       " Document(page_content='본 논문은 이러한 기존 기술들의 한계를 다소 극복하 기 위하여, YOLO 기반의 딥러닝 알고리즘과 첨단 센서 기술을 결합함으로써, 교통 장애 요인을 실시간으로 정 확하게 탐지하고 이에 빠르게 대응할 수 있는 시스템을\\n2\\nYOLO를 사용한 교통 장애 요인 인식 및 내비게이션 연동 방법\\n개발하고자 한다. 제안 시스템은 실시간 환경에서 다양 한 도로 조건에 대응할 수 있는 높은 정확도와 신속한 대응 능력을 제공하도록 한다.\\nIII. 제안 시스템\\nFig. 3 ELP’s 2.0 Megapixel High-Resolution USB Wide-Angle Camera', metadata={'source': '../KAIA-JKIICE.pdf'}),\n",
       " Document(page_content='III. 제안 시스템\\nFig. 3 ELP’s 2.0 Megapixel High-Resolution USB Wide-Angle Camera\\n3.1 데이터 수집 및 YOLO 알고리즘 본 논문에서는 블랙아이스 탐지의 정확도 향상을 위 한 데이터 수집을 위하여, Seek Thermal의 MS202SP 열 화상 카메라(그림 1)를 차량에 부착하고 실제 도로 환경 에서 사용하였으며, 실제 블랙아이스와 유사한 열적 특 성을 가진 얇은 얼음판을 시료(그림 2)로 활용하여 열화 상 카메라의 정밀한 캡처 능력을 활용하였다.\\n또한, 공개적으로 이용할 수 있는 데이터 소스인 Roboflow와 AI Hub로 부터 추가 데이터를 확보하여 데 이터셋의 다양성과 품질을 보장할 수 있도록 하였다.\\nFig. 1 Seek Thermal MS202SP Thermal Imaging Camera', metadata={'source': '../KAIA-JKIICE.pdf'}),\n",
       " Document(page_content='Fig. 1 Seek Thermal MS202SP Thermal Imaging Camera\\nFig. 4 Pre-processing of collected image data\\nFig. 2 Examples of Black Ice Test Specimens\\n포트홀과 장애물 탐지를 위하여 ELP사의 2.0 Megapixel 고해상도 USB 광각 카메라(그림 3)를 채택 하여 실제 도로현장 기반의 데이터를 정확하고 효과적 으로 탐지하고 수집할 수 있도록 하였다.', metadata={'source': '../KAIA-JKIICE.pdf'}),\n",
       " Document(page_content='수집된 데이터의 사전 처리는 그림 4와 같이 모든 이 미지를 YOLO 알고리즘에 적합한 형태로 변환하고, YOLO 알고리즘의 학습을 통하여 이미지 내 객체의 식 별과 위치를 실시간으로 처리하였으며, OpenCV의 이 미지 증강 기술을 사용하여 학습 데이터의 다양성을 확 보하였다. 각 이미지 내의 블랙아이스, 포트홀 및 다양 한 장애물에 대한 바운딩 박스와 클래스 라벨을 정확하 게 예측하는 YOLO의 객체 탐지 학습 과정은 실제 도로 환경에서 발생할 수 있는 다양한 시나리오에 모델을 더 욱 잘 적응시켰다. 개발된 YOLO 기반 모델은 다양한 조명과 환경 조건에서도 블랙아이스, 포트홀 및 장애물 을 실시간으로 분석하고 높은 정확도로 식별할 수 있다.', metadata={'source': '../KAIA-JKIICE.pdf'}),\n",
       " Document(page_content='3\\n한국정보통신학회논문지 Vol. 23, No. 1: 399~406, Mar. 2019\\n3.2 내비게이션 시스템과의 연동 YOLO 기반 딥러닝 알고리즘을 활용하여 도로상의 장애물을 탐지하고, 이를 내비게이션 시스템과 효율적 으로 연동하는 새로운 접근 방식을 제공한다.\\n그림 5는 제안 시스템의 처리 과정을 나타낸다.\\nIV. 실험 및 평가\\n본 논문에서는 블랙아이스, 포트홀 및 장애물 탐지를 위한 실시간 도로 안전 시스템의 효율성 검증을 위하여, 인위적으로 생성한 블랙아이스, 포트홀 및 장애물을 활 용하여 시스템 탐지 기능을 실험하고 평가하였다.\\nFig. 5 Processing flow of the propose system', metadata={'source': '../KAIA-JKIICE.pdf'}),\n",
       " Document(page_content='Fig. 5 Processing flow of the propose system\\n도로 장애물 탐지는 열화상 및 광각 카메라를 통해 이루어지며, 탐지된 객체 정보는 Jetson 보드를 통해 처 리되고, 결과 데이터는 서버로 전송된다. 서버에서는 실시간 도로 상태 정보 관리를 위하여 날짜, 위도, 경도 및 장애물 유형 등의 주요 데이터를 데이터베이스에 저 장한다. 이후 내비게이션 사용자가 요청할 경우 JSON 형태로 변환하여 제공한다.', metadata={'source': '../KAIA-JKIICE.pdf'}),\n",
       " Document(page_content='블랙아이스 탐지 실험을 위하여, 실제 블랙아이스의 물리적 및 열적 특성을 모방한 얼음판(그림 2)을 제작하 고, 이를 자동차 주행에 적용하여 차량에 부착된 열화 상 카메라를 사용하여 다양한 속도와 조건에서의 탐지 능력을 평가하였다. 이 과정에서 수집된 데이터를 통하 여 실제 블랙아이스 조건에서 제안 시스템의 탐지 및 반응 여부를 평가 분석하였다. 그림 7은 훈련 과정에서 사용되지 않은 테스트 데이터셋에 훈련이 완료된 모델 을 적용한 검증 결과를 보여준다. 빨간색 바운딩 박스 는 모델이 탐지한 객체를 나타내며, 박스 위에 표시된 숫자는 객체를 식별할 때 모델이 얼마나 확신을 갖고 탐지했는지를 나타내는 신뢰도이다. 이 그림에 따르면, 모델이 예측한 객체들의 신뢰도는 최소 0.7에서 최대 0.9 사이에 있는 것을 보아, 모델이 높은 정확도로 객체 를 탐지했음을 확인할 수 있다.', metadata={'source': '../KAIA-JKIICE.pdf'}),\n",
       " Document(page_content='Fig. 6 Mobile application screens and markers\\nFig. 7 Example of black ice detection using YOLO algorithm\\n이러한 제안 시스템은 사용자에게 실시간 도로 상태 정보를 제공함으로써, 도로 안전 향상 및 기존 내비게 이션 시스템의 기능 확장에 유용한 적용이 가능하다.\\n그림 8은 블랙아이스 탐지 모델의 성능을 정량적으 로 평가한 지표들을 제시한다. 정밀도, 재현율 및 평균 정밀도(mAP) 지표들은 실제 도로 조건에서 제안 모델 의 블랙아이스 탐지 성능을 나타낸다. 그래프의 x축은\\n4\\nYOLO를 사용한 교통 장애 요인 인식 및 내비게이션 연동 방법', metadata={'source': '../KAIA-JKIICE.pdf'}),\n",
       " Document(page_content='4\\nYOLO를 사용한 교통 장애 요인 인식 및 내비게이션 연동 방법\\n학습의 반복 횟수를 나타내며, 반복 횟수가 증가함에 따라 모델의 성능이 향상되는 경향을 보여주고 있다.', metadata={'source': '../KAIA-JKIICE.pdf'}),\n",
       " Document(page_content='그림 8에는 mAP에 관한 두가지 그래프가 존재하는 데 모델의 mAP를 측정할 때는 흔히 mAP_0.5와 mAP_0.5:0.95 두 가지 방법이 사용된다. 첫째, ‘mAP_0.5’는 모델이 예측한 bounding box가 실제 객체 와의 IoU(Intersection over Union)가 0.5 이상인 경우를 측정한다. 둘째, ‘mAP_0.5:0.95’는 IoU 임계값을 0.5에 서 0.95까지 0.05씩 증가시키면서 계산된 mAP의 평균 을 나타낸다. 이러한 더 엄격한 측정은 모델이 탐지한 객체의 위치와 크기가 실제와 얼마나 정확하게 일치하 는지를 더 폭넓게 평가한다.\\nFig. 9 Example of vehicle and pedestrian detection using the YOLO algorithm\\nFig. 8 Black Ice Detection Model Performance Evaluation Indicators', metadata={'source': '../KAIA-JKIICE.pdf'}),\n",
       " Document(page_content='포트홀 및 장애물 탐지 실험을 위하여 아스팔트 시료 를 이용해 다양한 크기와 깊이의 포트홀을 인위적으로 생성하였고, 장애물은 일상적으로 도로에서 발견할 수 있는 물체를 사용하였다. 실험은 차량이 포트홀과 장애 물을 지나갈 때 고해상도 광각 카메라를 통하여 이미지 데이터를 수집하고, 수집된 데이터를 이용하여 분석 과 정에서 시스템의 이미지 처리 기능을 통한 탐지의 정확 성을 평가 분석하였다. 그림 8은 YOLO 알고리즘의 차 량, 보행자 및 다양한 장애물에 대한 탐지 성능을 평가 한 것이며, 그림 9는 정밀도, 재현율 및 mAP 지표를 통 하여 제안 시스템의 이들에 대한 탐지 정확도를 나타낸 다.', metadata={'source': '../KAIA-JKIICE.pdf'}),\n",
       " Document(page_content='Fig. 10 Performance Evaluation Indicators for Obstacle Models\\n실험 결과는 제안 시스템이 다양한 속도와 조건에서 블랙아이스, 포트홀 및 장애물을 효과적으로 탐지함을 나타내었고, 특히 열화상 카메라와 광각 카메라의 조합 이 각 도로 위험 요소에 대하여 높은 탐지 정확도를 제 공함을 알 수 있었다.\\n5\\n한국정보통신학회논문지 Vol. 23, No. 1: 399~406, Mar. 2019\\nV. 결론\\nREFERENCES', metadata={'source': '../KAIA-JKIICE.pdf'}),\n",
       " Document(page_content='5\\n한국정보통신학회논문지 Vol. 23, No. 1: 399~406, Mar. 2019\\nV. 결론\\nREFERENCES\\n기존의 도로 안전 시스템들은 도로상의 다양한 장애 물에 대한 탐지 및 대응이 충분하지 않은 실정이다. 대 부분 고정된 센서 시스템이나 제한된 범위에 적용이 집 중된 기존 연구들은 다양한 도로 상황과 환경적 변화에 능동적으로 대응하는 데 한계를 가지고 있으며, 대규모 인프라 투자의 필요성과 상당한 시간과 노력이 소요되 는 문제점을 가지고 있다.', metadata={'source': '../KAIA-JKIICE.pdf'}),\n",
       " Document(page_content='본 논문은 이러한 기존 기술들의 한계를 다소 극복하 기 위하여, YOLO 기반의 딥러닝 알고리즘과 첨단 센서 기술을 결합함으로써, 교통 장애 요인을 실시간으로 정 확하게 탐지하고 이에 빠르게 대응할 수 있는 시스템을 제안하였다. 블랙아이스의 정확한 탐지를 위한 데이터 수집을 위해 열화상 카메라를 사용하고, 실제 블랙아이 스와 유사한 열적 특성을 가진 얇은 얼음판 시료를 이 용하여 정밀한 캡처 기능을 구현하였다. 포트홀과 장애 물 탐지를 위하여 고해상도 USB 광각 카메라를 사용하 여 실제 도로현장 기반의 데이터를 정확하고 효과적으 로 탐지하고 수집할 수 있도록 하였으며, 공개 데이터 소스로부터 추가 데이터를 확보하여 데이터셋의 다양 성과 품질을 보장할 수 있도록 하였다. 또한, 전 처리된 수집 데이터를 YOLO 알고리즘의 학습을 통하여 객체 의 식별과 위치를 실시간으로 처리하였고, 이미지 증강 기술을 사용하여 학습 데이터의 다양성을 확보하였다. 실험을 통하여, 개발된 YOLO 기반 모델은 다양한 조명 과 환경 조건에서도 블랙아이스, 포트홀 및 장애물을 실시간으로 분석하고 높은 정확도로 식별할 수 있음을 보였다. 네비게이션 시스템과의 연동은 웹서버를 통하 여 NAS 서버에서 새로 업데이트된 데이터를 받아 JSON 파일로 변환 후, 내비게이션 어플리케이션에서 이를 파싱하여 지도상 해당 좌표에 도로 상태를 나타내 도록 하였다.', metadata={'source': '../KAIA-JKIICE.pdf'}),\n",
       " Document(page_content='제안 시스템은 실시간 환경에서 다양한 도로 조건에 대응할 수 있는 높은 정확도와 신속한 대응 능력 제공 을 통하여, 도로 안전 향상 및 교통사고 방지 등을 통한 사회 경제적 손실 감소에 유용한 활용이 가능하다.\\n제안 시스템은 극단적인 기상 조건이나 지리적 특성 에 대한 적응성과 실시간 반응을 위한 지연시간 관련 문제는 아직 충분히 검증되지 않았으며, 시스템의 범용 성과 확장성을 위한 추가적인 연구가 필요하다.', metadata={'source': '../KAIA-JKIICE.pdf'}),\n",
       " Document(page_content='[1] Wanhee Kim, Seoyoung Kang, Soyeon Park, Sangwook Lim, “Probable Meteorological Environment Based on Case Analysis of Black-Ice Formation on Road“ International journal of highway engineering, vol.24 no.1 pp.33-39, Feb. 2022. DOI: doi.org/10.7855/IJHE.2022.24.1.033 [2] Spectrum New 1. (Feb. 08, 2022). Potholes plaguing Ohio roads [Internet]. Available: storm https://spectrumnews1.com/oh/columbus/news/2022/02/07/p otholes-pop-up-around-the-ohio\\nafter winter\\n[3] T. Mihalj, H. Li, D. Babić, and C. Lex, \"Road Infrastructure Challenges Faced by Automated Driving: A Review,\" Applied Sciences, vol. 12, no. 7, Article no. 3477, Mar. 2022. DOI: 10.3390/app12073477.\\n[4] Gyeonggi Provincial People\\'s News. (Jan. 11, 2024). I\\'m going to prepare measures to prevent black ice accidents [Internet]. Available: http://www.gndomin.com/news/articleView.html?idxno=379 140#0BNb\\n[5] R. Ravish and S. Ranga Swamy, \"Intelligent Traffic Management: A Review of Challenges, Solutions, and Future Perspectives,\" Transport and Telecommunication, vol. 22, no. 2, pp. 163-182, Apr. 2021.\\nDOI: 10.2478/ttj-2021-0013. [6] Jae Han Park, Seung Heon Han, Soo Young Shin \"Black Ice Detection and Accident Prevention System Using Thermal Imaging Camera and Drone\" in Proceedings of 한국통신학 회 학술대회논문집, 개최지, pp. 893-894, Aug. 2020.\\nDOI: 10.2478/ttj-2021-0013. [7] S. A. Elsagheer Mohamed and K. A. AlShalfan, \"Road Traffic Performance and Transport Systems in the Cities,\" Journal of Advanced Transportation, vol. 2021, May 27, 2021. DOI: 10.1155/2021/4037533.', metadata={'source': '../KAIA-JKIICE.pdf'}),\n",
       " Document(page_content='DOI: 10.2478/ttj-2021-0013. [7] S. A. Elsagheer Mohamed and K. A. AlShalfan, \"Road Traffic Performance and Transport Systems in the Cities,\" Journal of Advanced Transportation, vol. 2021, May 27, 2021. DOI: 10.1155/2021/4037533.\\n[8] Chien-Yao Wang, Alexey Bochkovskiy, Hong-Yuan Mark Liao, \"YOLOv7: Trainable bag-of-freebies sets new state-of-the-art for real-time object detectors\" Proceedings of the IEEE/CVF Conference on Computer Vision and Pattern Recognition (CVPR), pp. 7464-7475, July 2022.\\nDOI: 10.48550/arXiv.2207.02696 [9] Seok Bum Hong, Hong Sik Yun, Sang Guk Yum, Seung Yeop Ryu, In Seong Jeong, Jisung Kim, \"Development of Black Ice Prediction Model Using GIS-based Multi-Sensor Model Validation\", Natural Hazards and Earth System Sciences, Vol. 22, No. 10, pp. 3435–3459, Oct. 2022.\\nDOI: 10.5194/nhess-22-3435-2022.\\n6\\nYOLO를 사용한 교통 장애 요인 인식 및 내비게이션 연동 방법\\n[10] Jaewook Kim, Eunkyung Kim, Dongwan Kim, \"A Black Ice Detection Method Based on 1-Dimensional CNN Using mmWave Sensor Backscattering\", Remote Sensing, Vol. 14, No. 20, Article 5252, Oct. 2022. DOI: 10.3390/rs14205252 . [11] Nachuan Ma, Jiahe Fan, Wenshuo Wang, Jin Wu, \"Computer Vision for Road Imaging and Pothole Detection: A State-of-the-Art Review of Systems and Algorithms\", Transportation Safety and Environment, Nov. 2022.\\nDOI: 10.1093/tse/tdac026. [12] Cho Su-Hyeong, Kim Ho-Hin, Park Sang-Sun, Lee Soo-Won, \"A Study on Mobile-based Obstacle Detection for Blinds\", in Proceedings of the Korea Information Processing Society Conference, pp. 433-436, May 2021.\\nDOI: 10.3745/PKIPS.Y2021M05A.433.\\n7', metadata={'source': '../KAIA-JKIICE.pdf'})]"
      ]
     },
     "execution_count": 7,
     "metadata": {},
     "output_type": "execute_result"
    }
   ],
   "source": [
    "docs"
   ]
  },
  {
   "cell_type": "code",
   "execution_count": 10,
   "metadata": {},
   "outputs": [
    {
     "name": "stderr",
     "output_type": "stream",
     "text": [
      "c:\\Users\\dahun\\Desktop\\fullstack-gpt\\env\\Lib\\site-packages\\langchain\\chains\\llm.py:349: UserWarning: The apply_and_parse method is deprecated, instead pass an output parser directly to LLMChain.\n",
      "  warnings.warn(\n"
     ]
    },
    {
     "data": {
      "text/plain": [
       "'This document discusses the limitations of existing research focused on fixed sensor systems or limited ranges in adapting to various road situations and environmental changes, as well as the problems of the necessity of large-scale infrastructure investment and significant time and effort required.'"
      ]
     },
     "execution_count": 10,
     "metadata": {},
     "output_type": "execute_result"
    }
   ],
   "source": [
    "# embedding은 고ㅇ\n",
    "\n",
    "cache_dir = LocalFileStore(\"./.cache/\")\n",
    "\n",
    "# Embedding은 text에 의미별로 적절한 점수를 부여해서 vector 형식으로 표현한것,\n",
    "\n",
    "embeddings = OpenAIEmbeddings()\n",
    "\n",
    "# ChacheBackedEmbedding을 사용하여 만들어진 Embedding을 cache(저장) 한다.\n",
    "\n",
    "cached_embeddings = CacheBackedEmbeddings.from_bytes_store(embeddings,cache_dir)\n",
    "\n",
    "# Vector store를 호출 해주고 FAISS사용\n",
    "# from_documents 메서드는 document 별로 embedding 작업 후 결과를 저장한 vector store를 반환\n",
    "# 이를 이용해 document 검색도 하고, 연관성이 높은 document들을 찾는다.\n",
    "vectorstore = FAISS.from_documents(docs,cached_embeddings)\n",
    "\n",
    "# retriever은 LangChain이 제공하는 class 또는 interface의 일종이다.\n",
    "# document를 검색해서 찾아오는 기능을 가지고 있다.\n",
    "# map_rerank는 각 document에 기반해서 질문에 대답하고 답변에 점수를 매겨준다,\n",
    "chain = RetrievalQA.from_chain_type(\n",
    "    llm=llm,\n",
    "    chain_type=\"map_rerank\",\n",
    "    retriever=vectorstore.as_retriever(),\n",
    ")\n",
    "\n",
    "chain.run(\"이건 무엇에 관한 논문이니? 한글로 말해줘\")"
   ]
  },
  {
   "cell_type": "code",
   "execution_count": null,
   "metadata": {},
   "outputs": [],
   "source": []
  }
 ],
 "metadata": {
  "kernelspec": {
   "display_name": "env",
   "language": "python",
   "name": "python3"
  },
  "language_info": {
   "codemirror_mode": {
    "name": "ipython",
    "version": 3
   },
   "file_extension": ".py",
   "mimetype": "text/x-python",
   "name": "python",
   "nbconvert_exporter": "python",
   "pygments_lexer": "ipython3",
   "version": "3.11.7"
  }
 },
 "nbformat": 4,
 "nbformat_minor": 2
}
