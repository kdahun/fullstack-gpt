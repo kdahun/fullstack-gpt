{
 "cells": [
  {
   "cell_type": "code",
   "execution_count": 1,
   "metadata": {},
   "outputs": [],
   "source": [
    "# open AI 와 LLM과의 차이점은 세부 사항에 있ek\n",
    "\n",
    "# open AI는 gpt-3.5-turbo를 model로 사용하고 있는 것을 확인 할 수 있다."
   ]
  },
  {
   "cell_type": "code",
   "execution_count": 2,
   "metadata": {},
   "outputs": [],
   "source": [
    "#from langchain.llms.openai import OpenAI\n",
    "\n",
    "# 주로 사용할것 chatgpt-3.5-turbo\n",
    "from langchain.chat_models import ChatOpenAI "
   ]
  },
  {
   "cell_type": "code",
   "execution_count": 3,
   "metadata": {},
   "outputs": [
    {
     "data": {
      "text/plain": [
       "'There are eight planets in our solar system: Mercury, Venus, Earth, Mars, Jupiter, Saturn, Uranus, and Neptune.'"
      ]
     },
     "execution_count": 3,
     "metadata": {},
     "output_type": "execute_result"
    }
   ],
   "source": [
    "# OpenAI(openai_api_key = \"자신의 api 키\")를 넣을 수도 있다\n",
    "# (만약 .env 파일 안에 OPENAI_API_KEY=\"자신의 api 키\"를 안 넣어 놨으면)\n",
    "chat = ChatOpenAI()\n",
    "\n",
    "# llm = OpenAI()\n",
    "# a = llm.predict(\"How many planets are there?\")\n",
    "# InvalidRequestError: The model `text-davinci-003` has been deprecated 에러가 뜬다.\n",
    "# 사용중인 모델인 text-davinci-003은 더 이상 사용되지 않는다는 것\n",
    "\n",
    "b = chat.predict(\"How many planets are there?\")\n",
    "\n",
    "b"
   ]
  },
  {
   "cell_type": "code",
   "execution_count": 6,
   "metadata": {},
   "outputs": [
    {
     "data": {
      "text/plain": [
       "AIMessage(content='멕시코와 태국 사이의 거리는 대략 16,000km입니다. 제 이름은 비밀입니다. 어떤 도움이 필요하십니까?')"
      ]
     },
     "execution_count": 6,
     "metadata": {},
     "output_type": "execute_result"
    }
   ],
   "source": [
    "from langchain.schema import HumanMessage, AIMessage, SystemMessage\n",
    "\n",
    "\n",
    "# chat model 만들기\n",
    "chat = ChatOpenAI(temperature=0.1)\n",
    "\n",
    "#\n",
    "messages = [\n",
    "    SystemMessage(content = \"You are a geography expert. And you only reply in korean\",),\n",
    "    AIMessage(content=\"안녕하세요!!!!\"),\n",
    "    HumanMessage(content=\"hi!  what is the distance between Mexico and Thailand. Also, what is your name?\",),\n",
    "]\n",
    "\n",
    "\n",
    "# 단순히 문자열들을 predict 하는 것 대신에 \n",
    "# predict_messages를 사용하고 message의 list를 넘겨준다.\n",
    "chat.predict_messages(messages)"
   ]
  },
  {
   "cell_type": "code",
   "execution_count": 3,
   "metadata": {},
   "outputs": [
    {
     "data": {
      "text/plain": [
       "'The distance between Mexico and Korea is approximately 8,900 miles (14,300 kilometers) when measured in a straight line.'"
      ]
     },
     "execution_count": 3,
     "metadata": {},
     "output_type": "execute_result"
    }
   ],
   "source": [
    "from langchain.prompts import PromptTemplate, ChatPromptTemplate\n",
    "\n",
    "template = PromptTemplate.from_template(\"What is the distance between {country_a} and {country_b}.\")\n",
    "\n",
    "prompt=template.format(country_a = \"Mexico\",country_b=\"Korea\")\n",
    "\n",
    "chat = ChatOpenAI(temperature=0.1)\n",
    "\n",
    "chat.predict(prompt)"
   ]
  },
  {
   "cell_type": "code",
   "execution_count": 8,
   "metadata": {},
   "outputs": [
    {
     "data": {
      "text/plain": [
       "AIMessage(content='멕시코와 한국 사이의 거리는 약 12,000km입니다. 내 이름은 chatgpt야.')"
      ]
     },
     "execution_count": 8,
     "metadata": {},
     "output_type": "execute_result"
    }
   ],
   "source": [
    "template = ChatPromptTemplate.from_messages([\n",
    "        (\"system\",\"You are a geography expert. And you only reply in {language}.\"),\n",
    "        (\"ai\",\"안녕 내 이름은 {name}야\"),\n",
    "        (\"human\",\"What is the distance between {country_a} and {country_b}. Also, what is your name?\")\n",
    "    ]\n",
    ")\n",
    "prompt=template.format_messages(language=\"Korea\",name=\"chat-gpt\",country_a = \"Mexico\",country_b=\"Korea\")\n",
    "chat.predict_messages(prompt)"
   ]
  },
  {
   "cell_type": "code",
   "execution_count": 9,
   "metadata": {},
   "outputs": [
    {
     "data": {
      "text/plain": [
       "['Hello', 'how', 'are', 'you']"
      ]
     },
     "execution_count": 9,
     "metadata": {},
     "output_type": "execute_result"
    }
   ],
   "source": [
    "# 응답을 list로 변환시키는 것을 만들어 볼 예정\n",
    "\n",
    "# OutputParser는  parse라는 메서드를 꼭 구현해야 한다.\n",
    "# strip은 text의 앞뒤 공백을 잘라준다.\n",
    "\n",
    "\n",
    "from langchain.schema import BaseOutputParser\n",
    "\n",
    "class CommaOutputParser(BaseOutputParser):\n",
    "    \n",
    "    def parse(self,text):\n",
    "        itmes = text.strip().split(\",\")\n",
    "        return list(map(str.strip,itmes))\n",
    "    \n",
    "p = CommaOutputParser()\n",
    "\n",
    "p.parse(\"Hello, how, are, you\")"
   ]
  },
  {
   "cell_type": "code",
   "execution_count": 15,
   "metadata": {},
   "outputs": [
    {
     "data": {
      "text/plain": [
       "['red',\n",
       " 'blue',\n",
       " 'green',\n",
       " 'yellow',\n",
       " 'orange',\n",
       " 'purple',\n",
       " 'pink',\n",
       " 'black',\n",
       " 'white',\n",
       " 'brown']"
      ]
     },
     "execution_count": 15,
     "metadata": {},
     "output_type": "execute_result"
    }
   ],
   "source": [
    "# prompt template을 포맷팅 한 후\n",
    "template = ChatPromptTemplate.from_messages([\n",
    "    (\"system\",\"\"\"You are a list generating machine. Everything you are asked will be \n",
    "     answered with a comma separated list of max {max_items}. Do NOT reply with anything else.\"\"\"),\n",
    "     (\"human\",\"{question}\")\n",
    "])\n",
    "\n",
    "prompt = template.format_messages(\n",
    "    max_items = 10,\n",
    "    question = \"What are the color?\"\n",
    ")\n",
    "\n",
    "result = chat.predict_messages(prompt)\n",
    "\n",
    "# output Parser\n",
    "p = CommaOutputParser()\n",
    "p.parse(result.content)"
   ]
  },
  {
   "cell_type": "code",
   "execution_count": 18,
   "metadata": {},
   "outputs": [
    {
     "data": {
      "text/plain": [
       "['Pikachu', 'Charmander', 'Bulbasaur', 'Squirtle', 'Jigglypuff']"
      ]
     },
     "execution_count": 18,
     "metadata": {},
     "output_type": "execute_result"
    }
   ],
   "source": [
    "# LangChain Expression Language(표준언어)\n",
    "\n",
    "# 재료 : chat model, outputParser class, template\n",
    "\n",
    "# chain이라는 것은 기본적으로 모든 요소를 합쳐주는 역할을 한다.\n",
    "# 합쳐진 요소들은 하나의 chain으로 실행 -> 하나하나 순서대로 result를 반환할때까지\n",
    "\n",
    "# 내부에서 .format_messages를 호출 -> chat.predict 호출 -> parse 호출\n",
    "chain = template | chat | CommaOutputParser()\n",
    "\n",
    "# invoke 메서드의 입력값으로는 dictionary 타입이 들어가야된다.\n",
    "\n",
    "chain.invoke({\n",
    "    \"max_items\":5,\n",
    "    \"question\":\"What are the pokemons?\"\n",
    "})"
   ]
  },
  {
   "cell_type": "code",
   "execution_count": null,
   "metadata": {},
   "outputs": [],
   "source": []
  }
 ],
 "metadata": {
  "kernelspec": {
   "display_name": "env",
   "language": "python",
   "name": "python3"
  },
  "language_info": {
   "codemirror_mode": {
    "name": "ipython",
    "version": 3
   },
   "file_extension": ".py",
   "mimetype": "text/x-python",
   "name": "python",
   "nbconvert_exporter": "python",
   "pygments_lexer": "ipython3",
   "version": "3.11.7"
  }
 },
 "nbformat": 4,
 "nbformat_minor": 2
}
