{
 "cells": [
  {
   "cell_type": "code",
   "execution_count": 6,
   "metadata": {},
   "outputs": [],
   "source": [
    "from langchain.chat_models import ChatOpenAI\n",
    "from langchain.prompts import ChatPromptTemplate\n",
    "from langchain.callbacks import StreamingStdOutCallbackHandler\n",
    "\n",
    "chat = ChatOpenAI(temperature=0.1,streaming = True,callbacks=[StreamingStdOutCallbackHandler()])\n",
    "\n",
    "chef_prompt = ChatPromptTemplate.from_messages([\n",
    "    (\"\"\"system\", \"You are a world-class international chef. You create easy to \n",
    "     follow recipies for any type of cuisine with easy to find ingredients.\"\"\"),\n",
    "     (\"human\",\"I want to cook {cuisine} food.\"),\n",
    "])\n",
    "\n",
    "chef_chain = chef_prompt | chat"
   ]
  },
  {
   "cell_type": "code",
   "execution_count": 7,
   "metadata": {},
   "outputs": [],
   "source": [
    "veg_chef_prompt = ChatPromptTemplate.from_messages([\n",
    "    (\"system\",\"\"\"You are a vegetarian chef specialized on makeing traditional recipies\n",
    "     vegetarian. You find alternative ingredients and explain their preparation. You don't radically\n",
    "     modify the recipe. If there is no alternative for a food just say you don't know how to replace it.\"\"\"),\n",
    "     (\"human\",\"{recipe}\")\n",
    "])\n",
    "\n",
    "veg_chain = veg_chef_prompt | chat"
   ]
  },
  {
   "cell_type": "code",
   "execution_count": 8,
   "metadata": {},
   "outputs": [
    {
     "name": "stdout",
     "output_type": "stream",
     "text": [
      "Great choice! Indian cuisine is known for its bold flavors and aromatic spices. Here's a simple recipe for Chicken Tikka Masala, a popular Indian dish:\n",
      "\n",
      "Ingredients:\n",
      "- 1 lb boneless, skinless chicken breasts, cut into bite-sized pieces\n",
      "- 1 cup plain yogurt\n",
      "- 2 tbsp lemon juice\n",
      "- 2 tbsp vegetable oil\n",
      "- 1 onion, finely chopped\n",
      "- 3 cloves garlic, minced\n",
      "- 1-inch piece of ginger, grated\n",
      "- 1 can (14 oz) diced tomatoes\n",
      "- 2 tbsp tomato paste\n",
      "- 1 tbsp garam masala\n",
      "- 1 tsp ground cumin\n",
      "- 1 tsp ground coriander\n",
      "- 1/2 tsp turmeric\n",
      "- 1/2 tsp cayenne pepper (adjust to taste)\n",
      "- Salt and pepper to taste\n",
      "- Fresh cilantro for garnish\n",
      "- Cooked rice or naan bread for serving\n",
      "\n",
      "Instructions:\n",
      "1. In a bowl, combine yogurt, lemon juice, 1 tbsp vegetable oil, half of the minced garlic, half of the grated ginger, and a pinch of salt. Add the chicken pieces and marinate for at least 30 minutes (overnight for best results).\n",
      "\n",
      "2. Heat the remaining vegetable oil in a large skillet over medium heat. Add the chopped onion and cook until softened, about 5 minutes. Add the remaining garlic and ginger and cook for another minute.\n",
      "\n",
      "3. Stir in the diced tomatoes, tomato paste, garam masala, cumin, coriander, turmeric, cayenne pepper, salt, and pepper. Cook for about 5 minutes, until the sauce thickens.\n",
      "\n",
      "4. Add the marinated chicken along with the marinade to the skillet. Cook for about 15-20 minutes, stirring occasionally, until the chicken is cooked through.\n",
      "\n",
      "5. Taste and adjust seasoning as needed. Garnish with fresh cilantro and serve hot with rice or naan bread.\n",
      "\n",
      "Enjoy your homemade Chicken Tikka Masala! Feel free to customize the spice level to suit your taste preferences. Let me know if you need more Indian recipes or cooking tips.As a vegetarian chef, I can help you make a delicious vegetarian version of Chicken Tikka Masala. Here are some alternative ingredients and preparation tips:\n",
      "\n",
      "1. **Chicken**: Replace the chicken with firm tofu or paneer (Indian cottage cheese) cut into bite-sized pieces. Press the tofu to remove excess water, then marinate it in the yogurt and lemon juice mixture as you would with the chicken. For paneer, you can skip the marination step as it absorbs flavors well during cooking.\n",
      "\n",
      "2. **Yogurt**: Use plain Greek yogurt or dairy-free yogurt as a substitute for regular yogurt. Coconut yogurt or almond yogurt are good options for a dairy-free version.\n",
      "\n",
      "3. **Garam Masala**: Make your own garam masala blend using ground spices like cumin, coriander, cardamom, cinnamon, cloves, and black pepper. You can adjust the proportions to suit your taste preferences.\n",
      "\n",
      "4. **Vegetable Oil**: You can use olive oil, coconut oil, or ghee (clarified butter) as alternatives to vegetable oil for cooking.\n",
      "\n",
      "5. **Ginger and Garlic**: These aromatic ingredients can be replaced with ginger and garlic paste or powder for convenience. You can also use fresh ginger and garlic if preferred.\n",
      "\n",
      "6. **Cayenne Pepper**: Substitute cayenne pepper with paprika or red chili powder to add a mild heat to the dish. Adjust the amount based on your spice tolerance.\n",
      "\n",
      "7. **Naan Bread**: Serve your vegetarian Tikka Masala with homemade garlic naan or whole wheat naan. You can also opt for roti or rice for a gluten-free option.\n",
      "\n",
      "By making these simple ingredient swaps and following the same cooking method, you can enjoy a flavorful and satisfying Vegetarian Tikka Masala. Let me know if you have any other traditional recipes you'd like to make vegetarian!"
     ]
    },
    {
     "data": {
      "text/plain": [
       "AIMessageChunk(content=\"As a vegetarian chef, I can help you make a delicious vegetarian version of Chicken Tikka Masala. Here are some alternative ingredients and preparation tips:\\n\\n1. **Chicken**: Replace the chicken with firm tofu or paneer (Indian cottage cheese) cut into bite-sized pieces. Press the tofu to remove excess water, then marinate it in the yogurt and lemon juice mixture as you would with the chicken. For paneer, you can skip the marination step as it absorbs flavors well during cooking.\\n\\n2. **Yogurt**: Use plain Greek yogurt or dairy-free yogurt as a substitute for regular yogurt. Coconut yogurt or almond yogurt are good options for a dairy-free version.\\n\\n3. **Garam Masala**: Make your own garam masala blend using ground spices like cumin, coriander, cardamom, cinnamon, cloves, and black pepper. You can adjust the proportions to suit your taste preferences.\\n\\n4. **Vegetable Oil**: You can use olive oil, coconut oil, or ghee (clarified butter) as alternatives to vegetable oil for cooking.\\n\\n5. **Ginger and Garlic**: These aromatic ingredients can be replaced with ginger and garlic paste or powder for convenience. You can also use fresh ginger and garlic if preferred.\\n\\n6. **Cayenne Pepper**: Substitute cayenne pepper with paprika or red chili powder to add a mild heat to the dish. Adjust the amount based on your spice tolerance.\\n\\n7. **Naan Bread**: Serve your vegetarian Tikka Masala with homemade garlic naan or whole wheat naan. You can also opt for roti or rice for a gluten-free option.\\n\\nBy making these simple ingredient swaps and following the same cooking method, you can enjoy a flavorful and satisfying Vegetarian Tikka Masala. Let me know if you have any other traditional recipes you'd like to make vegetarian!\")"
      ]
     },
     "execution_count": 8,
     "metadata": {},
     "output_type": "execute_result"
    }
   ],
   "source": [
    "# 먼저 레시피 값을 얻고 그 다음 채식주의 레시피로 변경하는 과정\n",
    "final_chain ={\"recipe\" : chef_chain}|veg_chain\n",
    "\n",
    "final_chain.invoke({\n",
    "    \"cuisine\":\"indian\"\n",
    "})"
   ]
  },
  {
   "cell_type": "code",
   "execution_count": null,
   "metadata": {},
   "outputs": [],
   "source": []
  }
 ],
 "metadata": {
  "kernelspec": {
   "display_name": "env",
   "language": "python",
   "name": "python3"
  },
  "language_info": {
   "codemirror_mode": {
    "name": "ipython",
    "version": 3
   },
   "file_extension": ".py",
   "mimetype": "text/x-python",
   "name": "python",
   "nbconvert_exporter": "python",
   "pygments_lexer": "ipython3",
   "version": "3.11.7"
  }
 },
 "nbformat": 4,
 "nbformat_minor": 2
}
