{
 "cells": [
  {
   "cell_type": "code",
   "execution_count": 1,
   "metadata": {},
   "outputs": [],
   "source": [
    "# open AI 와 LLM과의 차이점은 세부 사항에 있ek\n",
    "\n",
    "# open AI는 gpt-3.5-turbo를 model로 사용하고 있는 것을 확인 할 수 있다."
   ]
  },
  {
   "cell_type": "code",
   "execution_count": 2,
   "metadata": {},
   "outputs": [],
   "source": [
    "from langchain.llms.openai import OpenAI\n",
    "\n",
    "# 주로 사용할것 chatgpt-3.5-turbo\n",
    "from langchain.chat_models import ChatOpenAI "
   ]
  },
  {
   "cell_type": "code",
   "execution_count": 3,
   "metadata": {},
   "outputs": [
    {
     "data": {
      "text/plain": [
       "'There are eight planets in our solar system: Mercury, Venus, Earth, Mars, Jupiter, Saturn, Uranus, and Neptune.'"
      ]
     },
     "execution_count": 3,
     "metadata": {},
     "output_type": "execute_result"
    }
   ],
   "source": [
    "# OpenAI(openai_api_key = \"자신의 api 키\")를 넣을 수도 있다\n",
    "# (만약 .env 파일 안에 OPENAI_API_KEY=\"자신의 api 키\"를 안 넣어 놨으면)\n",
    "chat = ChatOpenAI()\n",
    "\n",
    "# llm = OpenAI()\n",
    "# a = llm.predict(\"How many planets are there?\")\n",
    "# InvalidRequestError: The model `text-davinci-003` has been deprecated 에러가 뜬다.\n",
    "# 사용중인 모델인 text-davinci-003은 더 이상 사용되지 않는다는 것\n",
    "\n",
    "b = chat.predict(\"How many planets are there?\")\n",
    "\n",
    "b"
   ]
  },
  {
   "cell_type": "code",
   "execution_count": null,
   "metadata": {},
   "outputs": [],
   "source": []
  }
 ],
 "metadata": {
  "kernelspec": {
   "display_name": "env",
   "language": "python",
   "name": "python3"
  },
  "language_info": {
   "codemirror_mode": {
    "name": "ipython",
    "version": 3
   },
   "file_extension": ".py",
   "mimetype": "text/x-python",
   "name": "python",
   "nbconvert_exporter": "python",
   "pygments_lexer": "ipython3",
   "version": "3.11.7"
  }
 },
 "nbformat": 4,
 "nbformat_minor": 2
}
