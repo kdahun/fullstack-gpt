{
 "cells": [
  {
   "cell_type": "code",
   "execution_count": 1,
   "metadata": {},
   "outputs": [
    {
     "data": {
      "text/plain": [
       "'What is the capital of France'"
      ]
     },
     "execution_count": 1,
     "metadata": {},
     "output_type": "execute_result"
    }
   ],
   "source": [
    "from langchain.chat_models import ChatOpenAI\n",
    "from langchain.prompts import PromptTemplate\n",
    "from langchain.callbacks import StreamingStdOutCallbackHandler\n",
    "\n",
    "from langchain.prompts.few_shot import FewShotPromptTemplate\n",
    "\n",
    "chat = ChatOpenAI(\n",
    "    temperature=0.1,\n",
    "    streaming = True,\n",
    "    callbacks=[\n",
    "        StreamingStdOutCallbackHandler(),\n",
    "    ],\n",
    ")\n",
    "\n",
    "# PromptTemplate을 만드는 방법\n",
    "t = PromptTemplate.from_template(\"What is the capital of {country}\")\n",
    "\n",
    "t.format(country=\"France\")\n",
    "\n",
    "# t = PromptTemplate(\n",
    "#     template = \"What is the capital of {country}\",\n",
    "#     input_variables=[\"country\"],\n",
    "# )\n",
    "# t.format(country=\"France\") 위 PromptTemplate 만드는 방법과 같다.\n",
    "\n",
    "\n"
   ]
  },
  {
   "cell_type": "code",
   "execution_count": 3,
   "metadata": {},
   "outputs": [
    {
     "data": {
      "text/plain": [
       "'What is the capital of France'"
      ]
     },
     "execution_count": 3,
     "metadata": {},
     "output_type": "execute_result"
    }
   ],
   "source": [
    "# 템플릿을 만들면 좋은 점은 유효성을 검사할 수 있다.\n",
    "# + prompt template를 디스크에 저장하고 load 할 수 있기 때문이다."
   ]
  },
  {
   "cell_type": "code",
   "execution_count": 4,
   "metadata": {},
   "outputs": [],
   "source": [
    "# FewShot\n",
    "\n",
    "# 원하는 답변의 예제\n",
    "examples = [\n",
    "    {\n",
    "        \"question\" : \"What do you know about France?\",\n",
    "        \"answer\" :\"\"\"Here is what I know: \n",
    "        Capital: Paris\n",
    "        Language: French\n",
    "        Food: Wine and Cheese\n",
    "        Currency: Euro\"\"\",\n",
    "    },\n",
    "    {\n",
    "        \"question\" : \"What do you know about Italy?\",\n",
    "        \"answer\" :\"\"\"I know this: \n",
    "        Capital: Rome\n",
    "        Language: Italian\n",
    "        Food: Pizza and Pasta\n",
    "        Currency: Euro\"\"\",\n",
    "    },\n",
    "    {\n",
    "        \"question\" : \"What do you know about Greece?\",\n",
    "        \"answer\" :\"\"\"I know this: \n",
    "        Capital: Athens\n",
    "        Language: Greek\n",
    "        Food: Souvlaki and Feta Cheese\n",
    "        Currency: Euro\"\"\",\n",
    "    },\n",
    "]"
   ]
  },
  {
   "cell_type": "code",
   "execution_count": 5,
   "metadata": {},
   "outputs": [
    {
     "name": "stdout",
     "output_type": "stream",
     "text": [
      "France is a country located in Western Europe, known for its rich history, culture, and cuisine. It is the largest country in the European Union by land area and the third-largest in Europe overall. The capital city is Paris, which is famous for its iconic landmarks such as the Eiffel Tower, Louvre Museum, and Notre-Dame Cathedral.\n",
      "\n",
      "France is a popular tourist destination, attracting millions of visitors each year to its beautiful countryside, historic cities, and world-renowned vineyards. The country is also known for its fashion industry, with Paris being considered one of the fashion capitals of the world.\n",
      "\n",
      "French cuisine is highly regarded internationally, with dishes such as croissants, baguettes, escargot, and coq au vin being popular around the world. France is also famous for its wine production, particularly in regions such as Bordeaux, Burgundy, and Champagne.\n",
      "\n",
      "The country has a long and influential history, with a significant impact on art, literature, philosophy, and politics. France has been involved in many major historical events, including the French Revolution, World War I, and World War II.\n",
      "\n",
      "Today, France is a member of the United Nations, NATO, and the European Union, and is considered a major global power with a strong economy and cultural influence."
     ]
    },
    {
     "data": {
      "text/plain": [
       "'France is a country located in Western Europe, known for its rich history, culture, and cuisine. It is the largest country in the European Union by land area and the third-largest in Europe overall. The capital city is Paris, which is famous for its iconic landmarks such as the Eiffel Tower, Louvre Museum, and Notre-Dame Cathedral.\\n\\nFrance is a popular tourist destination, attracting millions of visitors each year to its beautiful countryside, historic cities, and world-renowned vineyards. The country is also known for its fashion industry, with Paris being considered one of the fashion capitals of the world.\\n\\nFrench cuisine is highly regarded internationally, with dishes such as croissants, baguettes, escargot, and coq au vin being popular around the world. France is also famous for its wine production, particularly in regions such as Bordeaux, Burgundy, and Champagne.\\n\\nThe country has a long and influential history, with a significant impact on art, literature, philosophy, and politics. France has been involved in many major historical events, including the French Revolution, World War I, and World War II.\\n\\nToday, France is a member of the United Nations, NATO, and the European Union, and is considered a major global power with a strong economy and cultural influence.'"
      ]
     },
     "execution_count": 5,
     "metadata": {},
     "output_type": "execute_result"
    }
   ],
   "source": [
    "# 평상시\n",
    "chat.predict(\"What do you know about France?\")"
   ]
  },
  {
   "cell_type": "code",
   "execution_count": 7,
   "metadata": {},
   "outputs": [
    {
     "data": {
      "text/plain": [
       "'Human: What do you know about France?\\nAI: Here is what I know: \\n        Capital: Paris\\n        Language: French\\n        Food: Wine and Cheese\\n        Currency: Euro\\n\\nHuman: What do you know about Italy?\\nAI: I know this: \\n        Capital: Rome\\n        Language: Italian\\n        Food: Pizza and Pasta\\n        Currency: Euro\\n\\nHuman: What do you know about Greece?\\nAI: I know this: \\n        Capital: Athens\\n        Language: Greek\\n        Food: Souvlaki and Feta Cheese\\n        Currency: Euro\\n\\nHuman: What do you know about Germany?'"
      ]
     },
     "execution_count": 7,
     "metadata": {},
     "output_type": "execute_result"
    }
   ],
   "source": [
    "# fewShotPromptTemplate 사용\n",
    "\n",
    "# 예제의 형식을 지정\n",
    "# example_template=\"\"\"\n",
    "#     Human: {question}\n",
    "#     AI: {answer}\n",
    "# \"\"\"\n",
    "\n",
    "# example_prompt = PromptTemplate.from_template(example_template)\n",
    "\n",
    "# or\n",
    "\n",
    "example_prompt = PromptTemplate.from_template(\"Human: {question}\\nAI: {answer}\")\n",
    "\n",
    "prompt = FewShotPromptTemplate(\n",
    "    example_prompt = example_prompt,\n",
    "    examples = examples,\n",
    "    suffix = \"Human: What do you know about {country}?\",\n",
    "    input_variables=[\"country\"]\n",
    ")\n",
    "# suffix는 형식화 된 모든 예제 마지막에 나오는 내용이다.\n",
    "\n",
    "prompt.format(country=\"Germany\")\n"
   ]
  },
  {
   "cell_type": "code",
   "execution_count": 10,
   "metadata": {},
   "outputs": [
    {
     "name": "stdout",
     "output_type": "stream",
     "text": [
      "AI: I know this:\n",
      "        Capital: Seoul\n",
      "        Language: Korean\n",
      "        Food: Kimchi and Bibimbap\n",
      "        Currency: South Korean Won"
     ]
    },
    {
     "data": {
      "text/plain": [
       "AIMessageChunk(content='AI: I know this:\\n        Capital: Seoul\\n        Language: Korean\\n        Food: Kimchi and Bibimbap\\n        Currency: South Korean Won')"
      ]
     },
     "execution_count": 10,
     "metadata": {},
     "output_type": "execute_result"
    }
   ],
   "source": [
    "chain = prompt | chat\n",
    "\n",
    "chain.invoke({\n",
    "    \"country\" : \"Korea\"\n",
    "})"
   ]
  },
  {
   "cell_type": "code",
   "execution_count": null,
   "metadata": {},
   "outputs": [],
   "source": []
  }
 ],
 "metadata": {
  "kernelspec": {
   "display_name": "env",
   "language": "python",
   "name": "python3"
  },
  "language_info": {
   "codemirror_mode": {
    "name": "ipython",
    "version": 3
   },
   "file_extension": ".py",
   "mimetype": "text/x-python",
   "name": "python",
   "nbconvert_exporter": "python",
   "pygments_lexer": "ipython3",
   "version": "3.11.7"
  }
 },
 "nbformat": 4,
 "nbformat_minor": 2
}
